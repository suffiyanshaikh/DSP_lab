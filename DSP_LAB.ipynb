{
  "nbformat": 4,
  "nbformat_minor": 0,
  "metadata": {
    "colab": {
      "provenance": [],
      "authorship_tag": "ABX9TyOSh2THyZF6dOd3i6vEYTd5",
      "include_colab_link": true
    },
    "kernelspec": {
      "name": "python3",
      "display_name": "Python 3"
    },
    "language_info": {
      "name": "python"
    }
  },
  "cells": [
    {
      "cell_type": "markdown",
      "metadata": {
        "id": "view-in-github",
        "colab_type": "text"
      },
      "source": [
        "<a href=\"https://colab.research.google.com/github/suffiyanshaikh/DSP_lab/blob/main/DSP_LAB.ipynb\" target=\"_parent\"><img src=\"https://colab.research.google.com/assets/colab-badge.svg\" alt=\"Open In Colab\"/></a>"
      ]
    },
    {
      "cell_type": "code",
      "execution_count": 6,
      "metadata": {
        "colab": {
          "base_uri": "https://localhost:8080/",
          "height": 351
        },
        "id": "UP4v48cvfFwm",
        "outputId": "99d8b4d4-0597-4c9f-a4d2-1835f18303a8"
      },
      "outputs": [
        {
          "output_type": "stream",
          "name": "stderr",
          "text": [
            "<ipython-input-6-60a472bd811f>:21: UserWarning: In Matplotlib 3.3 individual lines on a stem plot will be added as a LineCollection instead of individual lines. This significantly improves the performance of a stem plot. To remove this warning and switch to the new behaviour, set the \"use_line_collection\" keyword argument to True.\n",
            "  plt.stem(n, d)\n"
          ]
        },
        {
          "output_type": "display_data",
          "data": {
            "text/plain": [
              "<Figure size 432x288 with 1 Axes>"
            ],
            "image/png": "[encoded data removed]"
          },
          "metadata": {
            "needs_background": "light"
          }
        }
      ],
      "source": [
        "# importing libraries\n",
        "import numpy as np\n",
        "import matplotlib.pyplot as plt\n",
        "\n",
        "# Function to plot Impulse signal d(a)\n",
        "def unit_impulse(a, n):\n",
        "    delta =[]\n",
        "    for sample in n:\n",
        "        if sample == a:\n",
        "            delta.append(1)\n",
        "        else:\n",
        "            delta.append(0)\n",
        "              \n",
        "    return delta\n",
        "  \n",
        "a = 1  # Enter delay or advance\n",
        "UL = 4 # x-axis limit\n",
        "LL = -4\n",
        "n = np.arange(LL, UL)\n",
        "d = unit_impulse(a, n)# create array\n",
        "plt.stem(n, d) \n",
        "plt.xlabel('n')\n",
        "plt.xticks(np.arange(LL, UL, 1))\n",
        "plt.yticks([0, 1])\n",
        "plt.ylabel('d[n]')\n",
        "plt.title('Unit Impulse')\n",
        "plt.savefig(\"UnitImpulse.png\")"
      ]
    },
    {
      "cell_type": "code",
      "source": [
        "# importing libraries\n",
        "import numpy as np\n",
        "import matplotlib.pyplot as plt\n",
        "\n",
        "# Function to plot Unit Step signal d(a)\n",
        "def unit_impulse(a, n):\n",
        "    delta =[]\n",
        "    for sample in n:\n",
        "        if sample > a:\n",
        "            delta.append(1)\n",
        "        else:\n",
        "            delta.append(0)\n",
        "              \n",
        "    return delta\n",
        "  \n",
        "a = 0 # Enter delay or advance\n",
        "UL = 10\n",
        "LL = -10\n",
        "n = np.arange(LL, UL)\n",
        "d = unit_impulse(a, n)# create array\n",
        "plt.stem(n, d)\n",
        "plt.xlabel('n')\n",
        "plt.xticks(np.arange(LL, UL, 1))\n",
        "plt.yticks([0, 1])\n",
        "plt.ylabel('d[n]')\n",
        "plt.title('Unit Impulse d[4]')\n",
        "plt.savefig(\"UnitImpulse.jpeg\")"
      ],
      "metadata": {
        "colab": {
          "base_uri": "https://localhost:8080/",
          "height": 351
        },
        "id": "Rne8WS0yfych",
        "outputId": "2b7c7468-4a04-46a6-da71-38c5ede2e60b"
      },
      "execution_count": 7,
      "outputs": [
        {
          "output_type": "stream",
          "name": "stderr",
          "text": [
            "<ipython-input-7-a79b531d8354>:21: UserWarning: In Matplotlib 3.3 individual lines on a stem plot will be added as a LineCollection instead of individual lines. This significantly improves the performance of a stem plot. To remove this warning and switch to the new behaviour, set the \"use_line_collection\" keyword argument to True.\n",
            "  plt.stem(n, d)\n"
          ]
        },
        {
          "output_type": "display_data",
          "data": {
            "text/plain": [
              "<Figure size 432x288 with 1 Axes>"
            ],
            "image/png": "[encoded data removed]"
          },
          "metadata": {
            "needs_background": "light"
          }
        }
      ]
    },
    {
      "cell_type": "code",
      "source": [
        "# importing libraries\n",
        "import numpy as np\n",
        "import matplotlib.pyplot as plt\n",
        "# Function to generate unit ramp signal r(n)\n",
        "# r(n)= n for n>= 0, r(n)= 0 otherwise\n",
        "def unit_ramp(n):\n",
        "    ramp =[]\n",
        "    for sample in n:\n",
        "        if sample<0:\n",
        "            ramp.append(0)\n",
        "        else:\n",
        "            ramp.append(sample)\n",
        "    return ramp\n",
        "  \n",
        "UL = 10\n",
        "LL = -10\n",
        "n = np.arange(LL, UL, 1)\n",
        "r = unit_ramp(n)\n",
        "plt.stem(n, r)\n",
        "plt.xlabel('n')\n",
        "plt.xticks(np.arange(LL, UL, 1))\n",
        "plt.yticks(np.arange(0, UL, 1))\n",
        "plt.ylabel('r[n]')\n",
        "plt.title('Unit Ramp')\n",
        "plt.savefig(\"UnitRamp.jpeg\")"
      ],
      "metadata": {
        "colab": {
          "base_uri": "https://localhost:8080/",
          "height": 351
        },
        "id": "On7KNuyLgQi5",
        "outputId": "a8ed89be-84f2-4679-bbf0-e620e550b148"
      },
      "execution_count": 8,
      "outputs": [
        {
          "output_type": "stream",
          "name": "stderr",
          "text": [
            "<ipython-input-8-fbd98cb4e896>:19: UserWarning: In Matplotlib 3.3 individual lines on a stem plot will be added as a LineCollection instead of individual lines. This significantly improves the performance of a stem plot. To remove this warning and switch to the new behaviour, set the \"use_line_collection\" keyword argument to True.\n",
            "  plt.stem(n, r)\n"
          ]
        },
        {
          "output_type": "display_data",
          "data": {
            "text/plain": [
              "<Figure size 432x288 with 1 Axes>"
            ],
            "image/png": "[encoded data removed]"
          },
          "metadata": {
            "needs_background": "light"
          }
        }
      ]
    },
    {
      "cell_type": "code",
      "source": [
        "# importing libraries\n",
        "import numpy as np\n",
        "import matplotlib.pyplot as plt\n",
        "\n",
        "# Function to generate exponential signals e**(at)\n",
        "def exponential(a, n):\n",
        "    expo =[]\n",
        "    for sample in n:\n",
        "        expo.append(np.exp(a * sample))\n",
        "    return (expo)\n",
        "         \n",
        "a = 0.8\n",
        "UL = 1\n",
        "LL = -1\n",
        "n = np.arange(LL, UL, 0.1)\n",
        "x = exponential(a, n)\n",
        "plt.stem(n, x)\n",
        "plt.xlabel('n')\n",
        "plt.xticks(np.arange(LL, UL, 0.2))\n",
        "# plt.yticks([0, UL, 1])\n",
        "plt.ylabel('x[n]')\n",
        "plt.title('Exponential Signal')\n",
        "plt.savefig(\"Exponential.jpeg\")"
      ],
      "metadata": {
        "colab": {
          "base_uri": "https://localhost:8080/",
          "height": 351
        },
        "id": "CFiVWx_kgYRK",
        "outputId": "a2ff4e00-a520-412a-df40-6f93c38ee9c0"
      },
      "execution_count": 9,
      "outputs": [
        {
          "output_type": "stream",
          "name": "stderr",
          "text": [
            "<ipython-input-9-03c5c5b3cc73>:17: UserWarning: In Matplotlib 3.3 individual lines on a stem plot will be added as a LineCollection instead of individual lines. This significantly improves the performance of a stem plot. To remove this warning and switch to the new behaviour, set the \"use_line_collection\" keyword argument to True.\n",
            "  plt.stem(n, x)\n"
          ]
        },
        {
          "output_type": "display_data",
          "data": {
            "text/plain": [
              "<Figure size 432x288 with 1 Axes>"
            ],
            "image/png": "[encoded data removed]"
          },
          "metadata": {
            "needs_background": "light"
          }
        }
      ]
    },
    {
      "cell_type": "code",
      "source": [
        "import numpy as np\n",
        "import matplotlib.pyplot as plt \n",
        "# Get x values of the sine wave\n",
        "time = np.arange(0, 20,0.100); # start,stop,step\n",
        "# Amplitude of the sine wave is sine of a variable like time\n",
        "amplitude = np.sin(time)\n",
        "# Plot a sine wave using time and amplitude obtained for the sine wave\n",
        "plt.stem(time,amplitude)\n",
        "# Give a title for the sine wave plot\n",
        "plt.title('Sine wave')\n",
        "# Give x axis label for the sine wave plot\n",
        "plt.xlabel('Time')\n",
        "# Give y axis label for the sine wave plot\n",
        "plt.ylabel('Amplitude = sin(time)')\n",
        "plt.grid(True, which='both')\n",
        "plt.axhline(y=0, color='r')\n",
        "#Save the figure\n",
        "plt.savefig(\"Sine wave.jpeg\")"
      ],
      "metadata": {
        "colab": {
          "base_uri": "https://localhost:8080/",
          "height": 351
        },
        "id": "Pr2LaNOIgdDa",
        "outputId": "f65fd465-980c-4e06-8428-0b65cfdb1a4b"
      },
      "execution_count": 10,
      "outputs": [
        {
          "output_type": "stream",
          "name": "stderr",
          "text": [
            "<ipython-input-10-2661508a6bee>:8: UserWarning: In Matplotlib 3.3 individual lines on a stem plot will be added as a LineCollection instead of individual lines. This significantly improves the performance of a stem plot. To remove this warning and switch to the new behaviour, set the \"use_line_collection\" keyword argument to True.\n",
            "  plt.stem(time,amplitude)\n"
          ]
        },
        {
          "output_type": "display_data",
          "data": {
            "text/plain": [
              "<Figure size 432x288 with 1 Axes>"
            ],
            "image/png": "[encoded data removed]"
          },
          "metadata": {
            "needs_background": "light"
          }
        }
      ]
    }
  ]
}